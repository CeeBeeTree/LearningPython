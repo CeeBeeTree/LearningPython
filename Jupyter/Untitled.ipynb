{
 "cells": [
  {
   "cell_type": "code",
   "execution_count": 2,
   "metadata": {},
   "outputs": [],
   "source": [
    "import pickle\n",
    "\n",
    "filename = \"C:\\\\Users\\\\s441606\\\\Documents\\\\multisports_GT.pkl\"\n",
    "infile = open(filename,'rb')\n",
    "new_dict = pickle.load(infile)\n",
    "infile.close()\n"
   ]
  },
  {
   "cell_type": "code",
   "execution_count": 4,
   "metadata": {},
   "outputs": [
    {
     "name": "stdout",
     "output_type": "stream",
     "text": [
      "dict_keys(['labels', 'train_videos', 'test_videos', 'nframes', 'resolution', 'gttubes'])\n",
      "aerobic_gymnastics/v_crsi07chcV8_c004\n",
      "aerobic_gymnastics/v_yaKOumdXwbU_c019\n",
      "aerobic_gymnastics/v_yaKOumdXwbU_c019\n",
      "aerobic_gymnastics/v_aqMgwPExjD0_c001\n",
      "['aerobic push up', 'aerobic explosive push up', 'aerobic explosive support', 'aerobic leg circle', 'aerobic helicopter', 'aerobic support', 'aerobic v support', 'aerobic horizontal support', 'aerobic straight jump', 'aerobic illusion', 'aerobic bent leg(s) jump', 'aerobic pike jump', 'aerobic straddle jump', 'aerobic split jump', 'aerobic scissors leap', 'aerobic kick jump', 'aerobic off axis jump', 'aerobic butterfly jump', 'aerobic split', 'aerobic turn', 'aerobic balance turn', 'volleyball serve', 'volleyball block', 'volleyball first pass', 'volleyball defend', 'volleyball protect', 'volleyball second pass', 'volleyball adjust', 'volleyball save', 'volleyball second attack', 'volleyball spike', 'volleyball dink', 'volleyball no offensive attack', 'football shoot', 'football long pass', 'football short pass', 'football through pass', 'football cross', 'football dribble', 'football trap', 'football throw', 'football diving', 'football tackle', 'football steal', 'football clearance', 'football block', 'football press', 'football aerial duels', 'basketball pass', 'basketball drive', 'basketball dribble', 'basketball 3-point shot', 'basketball 2-point shot', 'basketball free throw', 'basketball block', 'basketball offensive rebound', 'basketball defensive rebound', 'basketball pass steal', 'basketball dribble steal', 'basketball interfere shot', 'basketball pick-and-roll defensive', 'basketball sag', 'basketball screen', 'basketball pass-inbound', 'basketball save', 'basketball jump ball']\n"
     ]
    }
   ],
   "source": [
    "print(new_dict.keys())\n",
    "print(new_dict['test_videos'][0][0])\n",
    "\n",
    "print(list(new_dict['nframes'].keys())[1])\n",
    "print(list(new_dict['resolution'].keys())[1])\n",
    "\n",
    "print(list(new_dict['gttubes'].keys())[0])\n",
    "\n",
    "print(list(new_dict['labels']))"
   ]
  },
  {
   "cell_type": "markdown",
   "metadata": {},
   "source": [
    "### Data Format\n",
    "Here we assume that the ground thruth file multisports_GT.pkl exists as a cache. The cache is a dictionary with the following keys:\n",
    "- **labels**: list of labels\n",
    "- **train_videos**: a list with n splits elements, each one containing the list of training videos\n",
    "- **test_videos**: item for the validation videos\n",
    "- **nframes**: dictionary that gives the number of frames for each video\n",
    "- **resolution**: dictionary that output a tuple (h,w) of the resolution for each video\n",
    "- **gttubes**: dictionary that contains the gt tubes for each video. Gttubes are dictionary that associates from each index of label, a list of tubes. A tube is a numpy array with nframes rows and 5 columns, <frame number> <x1> <y1> <x2> <y2>."
   ]
  },
  {
   "cell_type": "code",
   "execution_count": 5,
   "metadata": {},
   "outputs": [],
   "source": [
    "import cv2\n",
    "from numpy import *\n",
    "\n",
    "def draw_flow(im,flow,step=16):\n",
    "    h,w = im.shape[:2]\n",
    "    y,x = mgrid[step/2:h:step,step/2:w:step].reshape(2,-1).astype(int)\n",
    "    fx,fy = flow[y,x].T\n",
    "\n",
    "    # create line endpoints\n",
    "    lines = vstack([x,y,x+fx,y+fy]).T.reshape(-1,2,2)\n",
    "    lines = int32(lines)\n",
    "\n",
    "    # create image and draw\n",
    "    vis = cv2.cvtColor(im,cv2.COLOR_GRAY2BGR)\n",
    "    for (x1,y1),(x2,y2) in lines:\n",
    "        cv2.line(vis,(x1,y1),(x2,y2),(0,255,0),1)\n",
    "        cv2.circle(vis,(x1,y1),1,(0,255,0), -1)\n",
    "    return vis\n",
    "\n",
    "\n",
    "cap = cv2.VideoCapture(0)\n",
    "\n",
    "ret,im = cap.read()\n",
    "prev_gray = cv2.cvtColor(im,cv2.COLOR_BGR2GRAY)\n",
    "\n",
    "while True:\n",
    "    # get grayscale image\n",
    "    ret,im = cap.read()\n",
    "    gray = cv2.cvtColor(im,cv2.COLOR_BGR2GRAY)\n",
    "\n",
    "    # compute flow\n",
    "    #flow = cv2.calcOpticalFlowFarneback(prev_gray,gray,None,0.5,3,15,3,5,1.2,0)\n",
    "    flow = cv2.calcOpticalFlowFarneback(prev_gray,gray,float(0),float(0),3,15,3,5,float(1),0)\n",
    "    prev_gray = gray\n",
    "\n",
    "    # plot the flow vectors\n",
    "    cv2.imshow('Optical flow',draw_flow(gray,flow))\n",
    "    if cv2.waitKey(10) == 27:\n",
    "        break\n",
    "        \n",
    "cap.release()"
   ]
  }
 ],
 "metadata": {
  "kernelspec": {
   "display_name": "Python 3",
   "language": "python",
   "name": "python3"
  },
  "language_info": {
   "codemirror_mode": {
    "name": "ipython",
    "version": 3
   },
   "file_extension": ".py",
   "mimetype": "text/x-python",
   "name": "python",
   "nbconvert_exporter": "python",
   "pygments_lexer": "ipython3",
   "version": "3.7.4"
  },
  "toc": {
   "base_numbering": 1,
   "nav_menu": {},
   "number_sections": false,
   "sideBar": true,
   "skip_h1_title": false,
   "title_cell": "Table of Contents",
   "title_sidebar": "Contents",
   "toc_cell": false,
   "toc_position": {},
   "toc_section_display": true,
   "toc_window_display": false
  }
 },
 "nbformat": 4,
 "nbformat_minor": 2
}
