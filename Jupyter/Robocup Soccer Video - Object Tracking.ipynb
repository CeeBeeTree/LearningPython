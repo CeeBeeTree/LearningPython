{
 "cells": [
  {
   "cell_type": "markdown",
   "metadata": {},
   "source": [
    "# Robocup Soccer Data Set - Object Tracking\n",
    "**Author:** Christian Byron  **Date:** 25-May-21\n",
    "\n",
    "This notebook provides an example of tracking robots in a video using the mean shift algorithm. The code has been modified from a tutorial by Sergio Canu\n",
    "\n",
    "### Step 1 - Open the Robocup Soccer Video from the saved location"
   ]
  },
  {
   "cell_type": "code",
   "execution_count": 2,
   "metadata": {},
   "outputs": [
    {
     "data": {
      "application/vnd.jupyter.widget-view+json": {
       "model_id": "983ea9c9390d4dc18634bab9e6f69679",
       "version_major": 2,
       "version_minor": 0
      },
      "text/plain": [
       "Video(value=b'\\x00\\x00\\x00 ftypisom\\x00\\x00\\x02\\x00isomiso2avc1mp41\\x00\\x00#\\xeemoov\\x00\\x00\\x00lmvhd\\x00\\x00\\…"
      ]
     },
     "metadata": {},
     "output_type": "display_data"
    }
   ],
   "source": [
    "from ipywidgets import Video, Image\n",
    "\n",
    "video_filename = 'C:\\\\Users\\\\s441606\\\\Documents\\\\Robocup_video1.mp4'\n",
    "video = Video.from_file(video_filename)\n",
    "video"
   ]
  },
  {
   "cell_type": "markdown",
   "metadata": {},
   "source": [
    "### Step 2 - Get the location of the robot to be tracked from the first frame & establish histogram for this ROI"
   ]
  },
  {
   "cell_type": "code",
   "execution_count": 3,
   "metadata": {},
   "outputs": [
    {
     "data": {
      "application/vnd.jupyter.widget-view+json": {
       "model_id": "fc82a93832c0469db7034161f4727704",
       "version_major": 2,
       "version_minor": 0
      },
      "text/plain": [
       "Image(value=b'\\x89PNG\\r\\n\\x1a\\n\\x00\\x00\\x00\\rIHDR\\x00\\x00\\x02\\x80\\x00\\x00\\x01h\\x08\\x02\\x00\\x00\\x00HP\\xdd\\x06\\x…"
      ]
     },
     "metadata": {},
     "output_type": "display_data"
    }
   ],
   "source": [
    "import cv2\n",
    "\n",
    "video_cv2 = cv2.VideoCapture(video_filename)\n",
    "\n",
    "_, first_frame = video_cv2.read()\n",
    "\n",
    "video_cv2.release()\n",
    "\n",
    "x = 250\n",
    "y = 135\n",
    "width = 70\n",
    "height = 135\n",
    "\n",
    "roi = first_frame[y: y + height, x: x + width]\n",
    "hsv_roi = cv2.cvtColor(roi, cv2.COLOR_BGR2HSV)\n",
    "roi_hist = cv2.calcHist([hsv_roi], [0], None, [180], [0, 180])\n",
    "roi_hist = cv2.normalize(roi_hist, roi_hist, 0, 255, cv2.NORM_MINMAX)\n",
    "\n",
    "cv2.rectangle(first_frame,(x,y), (x + width, y + height), (0,255,0),2)\n",
    "\n",
    "image_filename = 'C:\\\\Users\\\\s441606\\\\Documents\\\\Robocup_video1_first_frame.png'\n",
    "\n",
    "cv2.imwrite(image_filename, first_frame)\n",
    "\n",
    "image_widget = Image()\n",
    "\n",
    "file = open(image_filename,\"rb\")\n",
    "image_widget.value = file.read()\n",
    "\n",
    "\n",
    "\n",
    "image_widget"
   ]
  },
  {
   "cell_type": "markdown",
   "metadata": {},
   "source": [
    "### Step 3 - Run through the video and track the robot using meanshift"
   ]
  },
  {
   "cell_type": "code",
   "execution_count": 3,
   "metadata": {},
   "outputs": [
    {
     "data": {
      "application/vnd.jupyter.widget-view+json": {
       "model_id": "24376c3673cc49c3851fb7e00a5a88f8",
       "version_major": 2,
       "version_minor": 0
      },
      "text/plain": [
       "Video(value=b'\\x00\\x00\\x00\\x18ftypmp42\\x00\\x00\\x00\\x00mp41isom\\x00\\x00\\x00(uuid\\\\\\xa7\\x08\\xfb2\\x8eB\\x05\\xa8ae\\…"
      ]
     },
     "metadata": {},
     "output_type": "display_data"
    }
   ],
   "source": [
    "term_criteria = (cv2.TERM_CRITERIA_EPS | cv2.TERM_CRITERIA_COUNT, 10, 1)\n",
    "\n",
    "video_cv2 = cv2.VideoCapture('C:\\\\Users\\\\s441606\\\\Documents\\\\Robocup_video1.mp4')\n",
    "frames = []\n",
    "\n",
    "while True:\n",
    "    try:\n",
    "        _, frame = video_cv2.read()\n",
    "        hsv = cv2.cvtColor(frame, cv2.COLOR_BGR2HSV)\n",
    "        mask = cv2.calcBackProject([hsv], [0], roi_hist, [0, 180], 1)\n",
    "\n",
    "        _, track_window = cv2.meanShift(mask, (x, y, width, height), term_criteria)\n",
    "        x, y, w, h = track_window\n",
    "    \n",
    "        cv2.rectangle(frame,(x,y), (x + w, y + h), (0,255,0),2)\n",
    "    \n",
    "        frames.append(frame)\n",
    "    except Exception:\n",
    "        break\n",
    "\n",
    "width = int(video_cv2.get(3))\n",
    "height = int(video_cv2.get(4))\n",
    "\n",
    "filename = 'C:\\\\Users\\\\s441606\\\\Documents\\\\output.mp4'\n",
    "\n",
    "fourcc = cv2.VideoWriter_fourcc(*'avc1')\n",
    "writer = cv2.VideoWriter(filename, fourcc, 25, (width, height))\n",
    "\n",
    "for frame in frames:\n",
    "    writer.write(frame)\n",
    "\n",
    "video_cv2.release()\n",
    "writer.release()\n",
    "\n",
    "video_output = Video.from_file(filename)\n",
    "video_output"
   ]
  },
  {
   "cell_type": "markdown",
   "metadata": {},
   "source": [
    "### Step 4 - Run through the video and track the robot using Lucas-Kanade method"
   ]
  },
  {
   "cell_type": "code",
   "execution_count": 4,
   "metadata": {},
   "outputs": [
    {
     "data": {
      "application/vnd.jupyter.widget-view+json": {
       "model_id": "0c7a2726011a443582f9c52b819c001f",
       "version_major": 2,
       "version_minor": 0
      },
      "text/plain": [
       "Video(value=b'\\x00\\x00\\x00\\x18ftypmp42\\x00\\x00\\x00\\x00mp41isom\\x00\\x00\\x00(uuid\\\\\\xa7\\x08\\xfb2\\x8eB\\x05\\xa8ae\\…"
      ]
     },
     "metadata": {},
     "output_type": "display_data"
    }
   ],
   "source": [
    "import cv2\n",
    "import numpy as np\n",
    "\n",
    "# Lucas kanade params\n",
    "lk_params = dict(winSize = (15, 15),\n",
    "maxLevel = 4,\n",
    "criteria = (cv2.TERM_CRITERIA_EPS | cv2.TERM_CRITERIA_COUNT, 10, 0.03))\n",
    "\n",
    "video_cv2 = cv2.VideoCapture('C:\\\\Users\\\\s441606\\\\Documents\\\\Robocup_video1.mp4')\n",
    "frames = []\n",
    "width = 70\n",
    "height = 135\n",
    "\n",
    "old_points = np.array([[285, 180]], dtype=np.float32)\n",
    "_, frame = video_cv2.read()\n",
    "gray_frame = cv2.cvtColor(frame, cv2.COLOR_BGR2GRAY)\n",
    "old_gray = gray_frame.copy()\n",
    "\n",
    "\n",
    "while True:\n",
    "    try:\n",
    "        _, frame = video_cv2.read()\n",
    "        gray_frame = cv2.cvtColor(frame, cv2.COLOR_BGR2GRAY)\n",
    "\n",
    "        new_points, status, error = cv2.calcOpticalFlowPyrLK(old_gray, gray_frame, old_points, None, **lk_params)\n",
    "        old_gray = gray_frame.copy()\n",
    "        old_points = new_points\n",
    "\n",
    "        x, y = new_points.ravel()\n",
    "        \n",
    "        cv2.circle(frame,(int(x),int(y)), 20, (0,255,0),2)\n",
    "    \n",
    "        frames.append(frame)\n",
    "        \n",
    "    except Exception:\n",
    "        break\n",
    "\n",
    "\n",
    "\n",
    "width = int(video_cv2.get(3))\n",
    "height = int(video_cv2.get(4))\n",
    "\n",
    "filename = 'C:\\\\Users\\\\s441606\\\\Documents\\\\output_kl.mp4'\n",
    "\n",
    "fourcc = cv2.VideoWriter_fourcc(*'avc1')\n",
    "writer = cv2.VideoWriter(filename, fourcc, 25, (width, height))\n",
    "\n",
    "for frame in frames:\n",
    "    writer.write(frame)\n",
    "\n",
    "video_cv2.release()\n",
    "writer.release()\n",
    "\n",
    "video_output_2 = Video.from_file(filename)\n",
    "video_output_2"
   ]
  },
  {
   "cell_type": "markdown",
   "metadata": {},
   "source": [
    "#### Lessons Learnt\n",
    "- How to write an image to file using CV2 (i.e. ``cv2.imwrite(filepath, img)`` ) \n",
    "\n",
    "\n",
    "#### References\n",
    "- https://pysource.com/2018/04/05/object-tracking-with-mean-shift-opencv-3-4-with-python-3-tutorial-29/"
   ]
  }
 ],
 "metadata": {
  "kernelspec": {
   "display_name": "Python 3",
   "language": "python",
   "name": "python3"
  },
  "language_info": {
   "codemirror_mode": {
    "name": "ipython",
    "version": 3
   },
   "file_extension": ".py",
   "mimetype": "text/x-python",
   "name": "python",
   "nbconvert_exporter": "python",
   "pygments_lexer": "ipython3",
   "version": "3.7.4"
  },
  "toc": {
   "base_numbering": 1,
   "nav_menu": {},
   "number_sections": false,
   "sideBar": true,
   "skip_h1_title": false,
   "title_cell": "Table of Contents",
   "title_sidebar": "Contents",
   "toc_cell": false,
   "toc_position": {},
   "toc_section_display": true,
   "toc_window_display": false
  }
 },
 "nbformat": 4,
 "nbformat_minor": 2
}
