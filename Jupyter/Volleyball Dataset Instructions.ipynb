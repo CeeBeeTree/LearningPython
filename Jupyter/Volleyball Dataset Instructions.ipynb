{
 "cells": [
  {
   "cell_type": "markdown",
   "metadata": {},
   "source": [
    "# Video Reconstruction for Volleyball dataset\n",
    "**Author:** Christian Byron  **Date:** 26-Mar-21\n",
    "\n",
    "This notebook provides an understanding of the Volleyball dataset by reconstructing it into a video gui. The volleyball dataset (available [here](https://github.com/mostafa-saad/deep-activity-rec#dataset)) was created by Ibrahim et al. <sub>[1]</sub> using publicly available YouTube volleyball videos.\n",
    "\n",
    "- [x] Figure out how to change GUI to select the video from the list when established form the subdirectories\n",
    "- [x] Change the frames collection to be driven by selecting video ... for now we just provide all of the video frames\n",
    "- [ ] Add next steps to read in the annotations \n",
    "- [ ] Some excepion handling on widgets when moving back to prior videos (upsets min and max values).. May mean redesigning the video data store again. \n",
    "\n",
    "### Step 1 - Find all videos and individual frames\n",
    "\n",
    "- The dataset contains 4830 annotated frames that were handpicked from 55 videos with 9 player action labels and 8 team activity labels. \n",
    "- Each video has a directory for it with sequential IDs (0, 1...54)\n",
    "- Inside each video directory, a set of directories corresponds to annotated frames (e.g. volleyball/39/29885)\n",
    "- Each frame directory has 41 images (20 images before target frame, target frame, 20 frames after target frame)\n",
    "- Each video directory has annotations.txt file that contains selected frames annotations.\n",
    "\n",
    "\n",
    "\n"
   ]
  },
  {
   "cell_type": "code",
   "execution_count": 4,
   "metadata": {},
   "outputs": [],
   "source": [
    "import os\n",
    "import sys\n",
    "\n",
    "base_video_collection_path = \\\n",
    "    \"C:\\\\Users\\\\s441606\\\\OneDrive - University of Canberra\\\\2021 Semester 1\\\\z- Learning Python\\\\Jupyter\\\\videos\"\n",
    "\n",
    "video_folder_list = os.listdir(base_video_collection_path)\n",
    "videos = {}\n",
    "\n",
    "for video_folder in video_folder_list:\n",
    "\n",
    "    video_frames = list()\n",
    "    video_starting_frame = sys.maxsize\n",
    "    \n",
    "    for subdir, dirs, files in os.walk(base_video_collection_path + \"\\\\\" + video_folder):\n",
    "        for dir in dirs:\n",
    "            video_starting_frame = min(int(dir), video_starting_frame)\n",
    "        for file in files:\n",
    "            if file.endswith(\".jpg\"):\n",
    "                video_frames.append(os.path.join(subdir, file))\n",
    "    \n",
    "    video_obj = {\"starting_frame\":video_starting_frame, \"frames\":video_frames} \n",
    "    \n",
    "    videos.update({video_folder:video_obj})\n",
    "\n"
   ]
  },
  {
   "cell_type": "markdown",
   "metadata": {},
   "source": [
    "### Step 2 - Build the GUI Function to show video frames"
   ]
  },
  {
   "cell_type": "code",
   "execution_count": 7,
   "metadata": {
    "scrolled": false
   },
   "outputs": [
    {
     "data": {
      "application/vnd.jupyter.widget-view+json": {
       "model_id": "5f5dd1bbe23847079f54982d933ab175",
       "version_major": 2,
       "version_minor": 0
      },
      "text/plain": [
       "VBox(children=(HBox(children=(Dropdown(description='Video #:', options=('0', '1'), value='0'), Play(value=3596…"
      ]
     },
     "metadata": {},
     "output_type": "display_data"
    }
   ],
   "source": [
    "import ipywidgets as widgets\n",
    "\n",
    "imageArea = widgets.Image()\n",
    "\n",
    "dropdown = widgets.Dropdown(\n",
    "    options= video_folder_list,\n",
    "    value ='1',\n",
    "    description='Video #:',\n",
    "    disabled=False,\n",
    ")\n",
    "\n",
    "play = widgets.Play(\n",
    "        step=1,\n",
    "        interval=50,\n",
    "        description=\"Press play\",\n",
    "        disabled=False\n",
    ")\n",
    "\n",
    "slider = widgets.IntSlider()\n",
    "\n",
    "widgets.jslink((play, 'value'), (slider, 'value'))\n",
    "\n",
    "def on_dropdown_value_change(change): \n",
    "    video_selected = videos[change['new']]\n",
    "    video_start = video_selected[\"starting_frame\"]\n",
    "    video_end = video_start + len(video_selected[\"frames\"])\n",
    "\n",
    "    slider.max = video_end\n",
    "    play.max = video_end\n",
    "    slider.min = video_start\n",
    "    play.min = video_start\n",
    "\n",
    "\n",
    "dropdown.observe(on_dropdown_value_change, names='value')\n",
    "\n",
    "def on_value_change(change):\n",
    "    video_selected = videos[dropdown.value]\n",
    "    video_start = video_selected[\"starting_frame\"]\n",
    "    frame_index = change['new'] - video_start \n",
    "    \n",
    "    file = open(f\"{video_selected['frames'][frame_index]}\",\"rb\")\n",
    "    imageArea.value = file.read()\n",
    " \n",
    "slider.observe(on_value_change, names='value')\n",
    "    \n",
    "\n",
    "controls = widgets.VBox([widgets.HBox([dropdown, play, slider]),imageArea])\n",
    "\n",
    "# trigger the initial video to correctly set the slider values and load the first image\n",
    "dropdown.value = '0'\n",
    "controls"
   ]
  },
  {
   "cell_type": "markdown",
   "metadata": {},
   "source": [
    "#### Lessons Learnt\n",
    "- A lot of learning about the iPython widgets (inc lack of documentation on class interfaces). Especially on how to use observe method to select and run the video(cascading value changes)\n",
    "- How to show a image using ipyWidgets - may be useful later - or may be replaced with other image libraries (eg Matlablib)\n",
    "- A bit of a challenge to create the complex store of videos in a dictionary\n",
    "\n",
    "\n",
    "#### References\n",
    "[1]  Mostafa S. Ibrahim et al. “A Hierarchical Deep Temporal Model for Group Activity Recognition”. In:2016 IeeeConference on Computer Vision and Pattern Recognition.  IEEE  Conference  on  Computer  Vision  and  PatternRecognition.  2016,  pp.  1971–1980.isbn:  978-1-4673-8851-1"
   ]
  }
 ],
 "metadata": {
  "kernelspec": {
   "display_name": "Python 3",
   "language": "python",
   "name": "python3"
  },
  "language_info": {
   "codemirror_mode": {
    "name": "ipython",
    "version": 3
   },
   "file_extension": ".py",
   "mimetype": "text/x-python",
   "name": "python",
   "nbconvert_exporter": "python",
   "pygments_lexer": "ipython3",
   "version": "3.7.4"
  }
 },
 "nbformat": 4,
 "nbformat_minor": 2
}
