{
 "cells": [
  {
   "cell_type": "markdown",
   "metadata": {},
   "source": [
    "## WL Soccer Video processing to create Dataset\n",
    "**Author:** Christian Byron  **Date:** 21-Jun-21\n",
    "\n",
    "This notebook is an interactive tool to design and build a dataset from a video file. The generic GUI `VideoDatasetUI.py` accepts a dataset object for reading the data including constructing the video. The first dataset created below reads from one list and two files:\n",
    "\n",
    "- the video clip file `video.txt` that provides start and end times for a given segment of the video (as per the list)\n",
    "- the annotations file `annotations.txt` that provides a sample annotation for one or many frames within the clip\n",
    "\n",
    "### Step 1 - Define the Dataset class\n",
    "\n",
    "- [ ] Clean up into its own file module"
   ]
  },
  {
   "cell_type": "code",
   "execution_count": 1,
   "metadata": {},
   "outputs": [],
   "source": [
    "import os\n",
    "import cv2\n",
    "\n",
    "def open_data_file(filename, columns):\n",
    "    data = []\n",
    "    try:\n",
    "        with open(filename) as f:\n",
    "            for line in f.readlines() :\n",
    "                line = line.strip() # remove leading/trailing white spaces\n",
    "\n",
    "                d = {} # dictionary to store file data (each line)\n",
    "                data_entry = [item.strip() for item in line.split(',')]\n",
    "                for index, elem in enumerate(data_entry):\n",
    "                        d[columns[index]] = data_entry[index]\n",
    "\n",
    "                data.append(d) # append dictionary to list\n",
    "    finally:        \n",
    "        return data\n",
    "\n",
    "\n",
    "def save_data_file(filename, data):\n",
    "\n",
    "    with open(filename, 'w') as f:\n",
    "        for data_entry in data:\n",
    "            f.write( ', '.join(str(x) for x in data_entry.values()))\n",
    "            f.write('\\n')\n",
    "            \n",
    "            \n",
    "class WLS_dataset:\n",
    "\n",
    "        def __read_video_list_file(self):\n",
    "            return open_data_file(\"video_clips.txt\", [\"FileName\",\"Clip Name\", \"Start\", \"End\"])\n",
    "        \n",
    "        def __init__(self):\n",
    "            self.__base_video_path = \"C:\\\\Users\\\\s441606\\\\Documents\\\\Videos\\\\\"\n",
    "          \n",
    "            self.__video_clips = self.__read_video_list_file()\n",
    "        \n",
    "        def video_list(self): \n",
    "            return [clip.get(\"Clip Name\") for clip in self.__video_clips]\n",
    "\n",
    "        def __get_video_clip_data(self, video_ref):\n",
    "            return self.__video_clips[self.video_list().index(video_ref)]\n",
    "\n",
    "        def add_video_to_list(self, file_name, clip_name, start, end):\n",
    "            self.__video_clips.append({\"FileName\": file_name, \"Clip Name\": clip_name, \"Start\": start, \"End\": end})\n",
    "            \n",
    "        def save_video_list_to_file(self):\n",
    "            save_data_file(\"video_clips.txt\", self.__video_clips)\n",
    "        \n",
    "        def video_annotations(self, video_ref):\n",
    "            return []\n",
    "        \n",
    "        def video_annotation_frame_num(self,video_ref, annotation_ref):\n",
    "            pass\n",
    "        \n",
    "        def video_end_frame_num(self, video_ref):\n",
    "            return int(self.__get_video_clip_data(video_ref)[\"End\"])\n",
    "        \n",
    "        def video_start_frame_num(self, video_ref):\n",
    "            return int(self.__get_video_clip_data(video_ref)[\"Start\"])\n",
    "        \n",
    "        def video_frame(self, video_ref, frame_num):\n",
    "            path = self.__base_video_path + self.__get_video_clip_data(video_ref)[\"FileName\"] \n",
    "            cap = cv2.VideoCapture(path)\n",
    "            cap.set(1, frame_num)\n",
    "            ret, frame = cap.read()\n",
    "            is_success, im_buf_arr = cv2.imencode(\".jpg\", frame)\n",
    "            byte_im = im_buf_arr.tobytes()\n",
    "            cap.release()\n",
    "            return byte_im\n",
    "                                    \n",
    "        def video_annotated_frame(self, video_ref, annotation_ref, frame_num):\n",
    "            pass"
   ]
  },
  {
   "cell_type": "markdown",
   "metadata": {},
   "source": [
    "### Step 2 - Display the Video Controls"
   ]
  },
  {
   "cell_type": "code",
   "execution_count": 2,
   "metadata": {},
   "outputs": [
    {
     "data": {
      "application/vnd.jupyter.widget-view+json": {
       "model_id": "eafcc863b2064f16bd171d42ccd157d3",
       "version_major": 2,
       "version_minor": 0
      },
      "text/plain": [
       "VBox(children=(HBox(children=(Dropdown(description='Video #:', options=('Complete Soccer Video', 'Complete Rob…"
      ]
     },
     "metadata": {},
     "output_type": "display_data"
    }
   ],
   "source": [
    "from VideoDatasetUI import VideoDatasetUI\n",
    "\n",
    "ds = WLS_dataset()\n",
    "videoUI = VideoDatasetUI(ds)\n",
    "videoUI.display()"
   ]
  },
  {
   "cell_type": "markdown",
   "metadata": {},
   "source": [
    "### Step 3 - Add to the video clip data to split video into components"
   ]
  },
  {
   "cell_type": "code",
   "execution_count": 3,
   "metadata": {
    "scrolled": true
   },
   "outputs": [
    {
     "data": {
      "application/vnd.jupyter.widget-view+json": {
       "model_id": "799d4795b709401a800dcb4b65f3b596",
       "version_major": 2,
       "version_minor": 0
      },
      "text/plain": [
       "HBox(children=(Label(value='Video File:'), Dropdown(layout=Layout(width='160px'), options=('IMG_0085.MOV', 'IM…"
      ]
     },
     "metadata": {},
     "output_type": "display_data"
    }
   ],
   "source": [
    "import ipywidgets as widgets\n",
    "\n",
    "video_file_dropdown = widgets.Dropdown( options=['IMG_0085.MOV', 'IMG_0087.MOV'],\n",
    "                                        layout=widgets.Layout(width='160px'),\n",
    "                                        disabled=False,\n",
    "                                       )\n",
    "\n",
    "video_clip_name = widgets.Text( placeholder='Enter here',\n",
    "                                layout=widgets.Layout(width='160px'),\n",
    "                                disabled=False\n",
    "                               )\n",
    "\n",
    "video_clip_start = widgets.IntText(value=0, disabled=False, layout=widgets.Layout(width='80px'))\n",
    "\n",
    "video_clip_end = widgets.IntText(value=0, disabled=False, layout=widgets.Layout(width='80px'))\n",
    "\n",
    "save_btn = widgets.Button( description='Save', disabled=False)\n",
    "\n",
    "def on_save_btn_click(btn):\n",
    "    ds.add_video_to_list(video_file_dropdown.value, video_clip_name.value,\n",
    "                         video_clip_start.value, video_clip_end.value)\n",
    "    ds.save_video_list_to_file()\n",
    "\n",
    "save_btn.on_click(on_save_btn_click)\n",
    "\n",
    "widgets.HBox( [widgets.Label('Video File:'),video_file_dropdown, \n",
    "              widgets.Label('Clip Name:'), video_clip_name, \n",
    "              widgets.Label('Start:'), video_clip_start, \n",
    "              widgets.Label('End:'),video_clip_end, save_btn])"
   ]
  }
 ],
 "metadata": {
  "kernelspec": {
   "display_name": "Python 3",
   "language": "python",
   "name": "python3"
  },
  "language_info": {
   "codemirror_mode": {
    "name": "ipython",
    "version": 3
   },
   "file_extension": ".py",
   "mimetype": "text/x-python",
   "name": "python",
   "nbconvert_exporter": "python",
   "pygments_lexer": "ipython3",
   "version": "3.7.4"
  },
  "toc": {
   "base_numbering": 1,
   "nav_menu": {},
   "number_sections": false,
   "sideBar": true,
   "skip_h1_title": false,
   "title_cell": "Table of Contents",
   "title_sidebar": "Contents",
   "toc_cell": false,
   "toc_position": {},
   "toc_section_display": true,
   "toc_window_display": false
  }
 },
 "nbformat": 4,
 "nbformat_minor": 2
}
