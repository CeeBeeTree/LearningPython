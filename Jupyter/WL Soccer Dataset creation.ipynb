{
 "cells": [
  {
   "cell_type": "markdown",
   "metadata": {},
   "source": [
    "## WL Soccer Video processing to create Dataset\n",
    "**Author:** Christian Byron  **Date:** 21-Jun-21\n",
    "\n",
    "This notebook is an interactive tool to design and build a dataset from a video file. The generic GUI `VideoDatasetUI.py` accepts a dataset object for reading the data including constructing the video. The first dataset created below reads from one list and two files:\n",
    "\n",
    "- the video clip file `video.txt` that provides start and end times for a given segment of the video (as per the list)\n",
    "- the annotations file `annotations.txt` that provides a sample annotation for one or many frames within the clip\n",
    "\n",
    "### Step 1 - Define the Dataset class\n",
    "\n",
    "- [ ] Clean up into its own file module"
   ]
  },
  {
   "cell_type": "code",
   "execution_count": 2,
   "metadata": {},
   "outputs": [],
   "source": [
    "import os\n",
    "import cv2\n",
    "\n",
    "def open_data_file(filename, columns):\n",
    "    data = []\n",
    "    try:\n",
    "        with open(filename) as f:\n",
    "            for line in f.readlines() :\n",
    "                line = line.strip() # remove leading/trailing white spaces\n",
    "\n",
    "                d = {} # dictionary to store file data (each line)\n",
    "                data_entry = [item.strip() for item in line.split(',')]\n",
    "                for index, elem in enumerate(data_entry):\n",
    "                        d[columns[index]] = data_entry[index]\n",
    "\n",
    "                data.append(d) # append dictionary to list\n",
    "    finally:        \n",
    "        return data\n",
    "\n",
    "\n",
    "def save_data_file(filename, data):\n",
    "\n",
    "    with open(filename, 'w') as f:\n",
    "        for data_entry in data:\n",
    "            f.write( ', '.join(str(x) for x in data_entry.values()))\n",
    "            f.write('\\n')\n",
    "            \n",
    "            \n",
    "class WLS_dataset:\n",
    "\n",
    "        def __read_video_list_file(self):\n",
    "            return open_data_file(\"video_clips.txt\", [\"FileName\",\"Clip Name\", \"Start\", \"End\"])\n",
    "        \n",
    "        def __init__(self):\n",
    "            self.__base_video_path = \"C:\\\\Users\\\\s441606\\\\Documents\\\\Videos\\\\\"\n",
    "          \n",
    "            self.__video_clips = self.__read_video_list_file()\n",
    "        \n",
    "        def video_list(self): \n",
    "            return [clip.get(\"Clip Name\") for clip in self.__video_clips]\n",
    "\n",
    "        def __get_video_clip_data(self, video_ref):\n",
    "            return self.__video_clips[self.video_list().index(video_ref)]\n",
    "\n",
    "        def add_video_to_list(self, file_name, clip_name, start, end):\n",
    "            self.__video_clips.append({\"FileName\": file_name, \"Clip Name\": clip_name, \"Start\": start, \"End\": end})\n",
    "            \n",
    "        def save_video_list_to_file(self):\n",
    "            save_data_file(\"video_clips.txt\", self.__video_clips)\n",
    "        \n",
    "        def video_annotations(self, video_ref):\n",
    "            return []\n",
    "        \n",
    "        def video_annotation_frame_num(self,video_ref, annotation_ref):\n",
    "            pass\n",
    "        \n",
    "        def video_end_frame_num(self, video_ref):\n",
    "            return int(self.__get_video_clip_data(video_ref)[\"End\"])\n",
    "        \n",
    "        def video_start_frame_num(self, video_ref):\n",
    "            return int(self.__get_video_clip_data(video_ref)[\"Start\"])\n",
    "        \n",
    "        def video_frame(self, video_ref, frame_num):\n",
    "            path = self.__base_video_path + self.__get_video_clip_data(video_ref)[\"FileName\"] \n",
    "            cap = cv2.VideoCapture(path)\n",
    "            cap.set(1, frame_num)\n",
    "            ret, frame = cap.read()\n",
    "            is_success, im_buf_arr = cv2.imencode(\".jpg\", frame)\n",
    "            byte_im = im_buf_arr.tobytes()\n",
    "            cap.release()\n",
    "            return byte_im\n",
    "                                    \n",
    "        def video_annotated_frame(self, video_ref, annotation_ref, frame_num):\n",
    "            pass"
   ]
  },
  {
   "cell_type": "markdown",
   "metadata": {},
   "source": [
    "### Step 2 - Display the Video Controls"
   ]
  },
  {
   "cell_type": "code",
   "execution_count": 3,
   "metadata": {},
   "outputs": [
    {
     "name": "stdout",
     "output_type": "stream",
     "text": [
      "{'new': 0}\n"
     ]
    },
    {
     "data": {
      "application/vnd.jupyter.widget-view+json": {
       "model_id": "f54646bd64a0473b9d9325938ad7dfe7",
       "version_major": 2,
       "version_minor": 0
      },
      "text/plain": [
       "VBox(children=(HBox(children=(Dropdown(description='Video #:', options=('Complete Soccer Video', 'Complete Rob…"
      ]
     },
     "metadata": {},
     "output_type": "display_data"
    },
    {
     "name": "stdout",
     "output_type": "stream",
     "text": [
      "{'name': 'value', 'old': 41, 'new': 42, 'owner': IntSlider(value=42, max=83), 'type': 'change'}\n",
      "{'name': 'value', 'old': 83, 'new': 82, 'owner': IntSlider(value=82, max=83, min=42), 'type': 'change'}\n",
      "{'name': 'value', 'old': 82, 'new': 58, 'owner': IntSlider(value=58, max=83, min=42), 'type': 'change'}\n",
      "{'name': 'value', 'old': 58, 'new': 52, 'owner': IntSlider(value=52, max=83, min=42), 'type': 'change'}\n",
      "{'name': 'value', 'old': 52, 'new': 51, 'owner': IntSlider(value=51, max=83, min=42), 'type': 'change'}\n",
      "{'name': 'value', 'old': 51, 'new': 47, 'owner': IntSlider(value=47, max=83, min=42), 'type': 'change'}\n",
      "{'name': 'value', 'old': 47, 'new': 46, 'owner': IntSlider(value=46, max=83, min=42), 'type': 'change'}\n",
      "{'name': 'value', 'old': 46, 'new': 45, 'owner': IntSlider(value=45, max=83, min=42), 'type': 'change'}\n",
      "{'name': 'value', 'old': 45, 'new': 44, 'owner': IntSlider(value=44, max=83, min=42), 'type': 'change'}\n",
      "{'name': 'value', 'old': 44, 'new': 42, 'owner': IntSlider(value=42, max=83, min=42), 'type': 'change'}\n",
      "{'name': 'value', 'old': 42, 'new': 46, 'owner': IntSlider(value=46, max=83, min=42), 'type': 'change'}\n",
      "{'name': 'value', 'old': 46, 'new': 47, 'owner': IntSlider(value=47, max=83, min=42), 'type': 'change'}\n",
      "{'name': 'value', 'old': 47, 'new': 49, 'owner': IntSlider(value=49, max=83, min=42), 'type': 'change'}\n",
      "{'name': 'value', 'old': 49, 'new': 51, 'owner': IntSlider(value=51, max=83, min=42), 'type': 'change'}\n",
      "{'name': 'value', 'old': 51, 'new': 53, 'owner': IntSlider(value=53, max=83, min=42), 'type': 'change'}\n",
      "{'name': 'value', 'old': 53, 'new': 54, 'owner': IntSlider(value=54, max=83, min=42), 'type': 'change'}\n",
      "{'name': 'value', 'old': 54, 'new': 57, 'owner': IntSlider(value=57, max=83, min=42), 'type': 'change'}\n",
      "{'name': 'value', 'old': 57, 'new': 58, 'owner': IntSlider(value=58, max=83, min=42), 'type': 'change'}\n",
      "{'name': 'value', 'old': 58, 'new': 59, 'owner': IntSlider(value=59, max=83, min=42), 'type': 'change'}\n",
      "{'name': 'value', 'old': 59, 'new': 60, 'owner': IntSlider(value=60, max=83, min=42), 'type': 'change'}\n",
      "{'name': 'value', 'old': 60, 'new': 61, 'owner': IntSlider(value=61, max=83, min=42), 'type': 'change'}\n",
      "{'name': 'value', 'old': 61, 'new': 62, 'owner': IntSlider(value=62, max=83, min=42), 'type': 'change'}\n",
      "{'name': 'value', 'old': 62, 'new': 64, 'owner': IntSlider(value=64, max=83, min=42), 'type': 'change'}\n",
      "{'name': 'value', 'old': 64, 'new': 66, 'owner': IntSlider(value=66, max=83, min=42), 'type': 'change'}\n",
      "{'name': 'value', 'old': 66, 'new': 67, 'owner': IntSlider(value=67, max=83, min=42), 'type': 'change'}\n",
      "{'name': 'value', 'old': 67, 'new': 68, 'owner': IntSlider(value=68, max=83, min=42), 'type': 'change'}\n",
      "{'name': 'value', 'old': 68, 'new': 70, 'owner': IntSlider(value=70, max=83, min=42), 'type': 'change'}\n",
      "{'name': 'value', 'old': 70, 'new': 71, 'owner': IntSlider(value=71, max=83, min=42), 'type': 'change'}\n",
      "{'name': 'value', 'old': 71, 'new': 72, 'owner': IntSlider(value=72, max=83, min=42), 'type': 'change'}\n",
      "{'name': 'value', 'old': 72, 'new': 74, 'owner': IntSlider(value=74, max=83, min=42), 'type': 'change'}\n",
      "{'name': 'value', 'old': 74, 'new': 75, 'owner': IntSlider(value=75, max=83, min=42), 'type': 'change'}\n",
      "{'name': 'value', 'old': 75, 'new': 77, 'owner': IntSlider(value=77, max=83, min=42), 'type': 'change'}\n",
      "{'name': 'value', 'old': 77, 'new': 78, 'owner': IntSlider(value=78, max=83, min=42), 'type': 'change'}\n",
      "{'name': 'value', 'old': 78, 'new': 79, 'owner': IntSlider(value=79, max=83, min=42), 'type': 'change'}\n",
      "{'name': 'value', 'old': 79, 'new': 80, 'owner': IntSlider(value=80, max=83, min=42), 'type': 'change'}\n",
      "{'name': 'value', 'old': 80, 'new': 81, 'owner': IntSlider(value=81, max=83, min=42), 'type': 'change'}\n",
      "{'name': 'value', 'old': 81, 'new': 82, 'owner': IntSlider(value=82, max=83, min=42), 'type': 'change'}\n",
      "{'name': 'value', 'old': 82, 'new': 81, 'owner': IntSlider(value=81, max=83, min=42), 'type': 'change'}\n",
      "{'name': 'value', 'old': 81, 'new': 78, 'owner': IntSlider(value=78, max=83, min=42), 'type': 'change'}\n",
      "{'name': 'value', 'old': 78, 'new': 73, 'owner': IntSlider(value=73, max=83, min=42), 'type': 'change'}\n",
      "{'name': 'value', 'old': 73, 'new': 70, 'owner': IntSlider(value=70, max=83, min=42), 'type': 'change'}\n",
      "{'name': 'value', 'old': 70, 'new': 67, 'owner': IntSlider(value=67, max=83, min=42), 'type': 'change'}\n",
      "{'name': 'value', 'old': 67, 'new': 59, 'owner': IntSlider(value=59, max=83, min=42), 'type': 'change'}\n",
      "{'name': 'value', 'old': 59, 'new': 55, 'owner': IntSlider(value=55, max=83, min=42), 'type': 'change'}\n",
      "{'name': 'value', 'old': 55, 'new': 50, 'owner': IntSlider(value=50, max=83, min=42), 'type': 'change'}\n",
      "{'name': 'value', 'old': 50, 'new': 45, 'owner': IntSlider(value=45, max=83, min=42), 'type': 'change'}\n",
      "{'name': 'value', 'old': 45, 'new': 42, 'owner': IntSlider(value=42, max=83, min=42), 'type': 'change'}\n",
      "{'name': 'value', 'old': 42, 'new': 46, 'owner': IntSlider(value=46, max=83, min=42), 'type': 'change'}\n",
      "{'name': 'value', 'old': 46, 'new': 57, 'owner': IntSlider(value=57, max=83, min=42), 'type': 'change'}\n",
      "{'name': 'value', 'old': 57, 'new': 78, 'owner': IntSlider(value=78, max=83, min=42), 'type': 'change'}\n",
      "{'name': 'value', 'old': 78, 'new': 83, 'owner': IntSlider(value=83, max=83, min=42), 'type': 'change'}\n"
     ]
    }
   ],
   "source": [
    "from VideoDatasetUI import VideoDatasetUI\n",
    "\n",
    "ds = WLS_dataset()\n",
    "videoUI = VideoDatasetUI(ds)\n",
    "videoUI.display()"
   ]
  },
  {
   "cell_type": "markdown",
   "metadata": {},
   "source": [
    "### Step 3 - Add to the video clip data to split video into components"
   ]
  },
  {
   "cell_type": "code",
   "execution_count": 1,
   "metadata": {
    "scrolled": true
   },
   "outputs": [
    {
     "data": {
      "application/vnd.jupyter.widget-view+json": {
       "model_id": "fc063bc99c6e4556bd5962f63bed439f",
       "version_major": 2,
       "version_minor": 0
      },
      "text/plain": [
       "HBox(children=(Label(value='Video File:'), Dropdown(layout=Layout(width='160px'), options=('IMG_0085.MOV', 'IM…"
      ]
     },
     "metadata": {},
     "output_type": "display_data"
    }
   ],
   "source": [
    "import ipywidgets as widgets\n",
    "\n",
    "video_file_dropdown = widgets.Dropdown( options=['IMG_0085.MOV', 'IMG_0087.MOV'],\n",
    "                                        layout=widgets.Layout(width='160px'),\n",
    "                                        disabled=False,\n",
    "                                       )\n",
    "\n",
    "video_clip_name = widgets.Text( placeholder='Enter here',\n",
    "                                layout=widgets.Layout(width='160px'),\n",
    "                                disabled=False\n",
    "                               )\n",
    "\n",
    "video_clip_start = widgets.IntText(value=0, disabled=False, layout=widgets.Layout(width='80px'))\n",
    "\n",
    "video_clip_end = widgets.IntText(value=0, disabled=False, layout=widgets.Layout(width='80px'))\n",
    "\n",
    "save_btn = widgets.Button( description='Save', disabled=False)\n",
    "\n",
    "def on_save_btn_click(btn):\n",
    "    ds.add_video_to_list(video_file_dropdown.value, video_clip_name.value,\n",
    "                         video_clip_start.value, video_clip_end.value)\n",
    "    ds.save_video_list_to_file()\n",
    "\n",
    "save_btn.on_click(on_save_btn_click)\n",
    "\n",
    "widgets.HBox( [widgets.Label('Video File:'),video_file_dropdown, \n",
    "              widgets.Label('Clip Name:'), video_clip_name, \n",
    "              widgets.Label('Start:'), video_clip_start, \n",
    "              widgets.Label('End:'),video_clip_end, save_btn])"
   ]
  }
 ],
 "metadata": {
  "kernelspec": {
   "display_name": "Python 3",
   "language": "python",
   "name": "python3"
  },
  "language_info": {
   "codemirror_mode": {
    "name": "ipython",
    "version": 3
   },
   "file_extension": ".py",
   "mimetype": "text/x-python",
   "name": "python",
   "nbconvert_exporter": "python",
   "pygments_lexer": "ipython3",
   "version": "3.7.4"
  },
  "toc": {
   "base_numbering": 1,
   "nav_menu": {},
   "number_sections": false,
   "sideBar": true,
   "skip_h1_title": false,
   "title_cell": "Table of Contents",
   "title_sidebar": "Contents",
   "toc_cell": false,
   "toc_position": {},
   "toc_section_display": true,
   "toc_window_display": false
  }
 },
 "nbformat": 4,
 "nbformat_minor": 2
}
