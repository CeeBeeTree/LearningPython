{
 "cells": [
  {
   "cell_type": "markdown",
   "metadata": {},
   "source": [
    "# Regular Expressions in Python\n",
    "**Author:** Christian Byron  **Date:** 13-Apr-21\n",
    "\n",
    "This notebook provides a proving area to apply regular expressions against file formats (such as the volleyball annotations format) so that they can be tested before coded into other programs \n",
    "\n",
    "- [ ] Fix the calculations for the regular expression - attempt to do as per javascript with multiple matches\n",
    "\n",
    "### Step 1 - Create a field for entering the string to be searched by regular expresions\n"
   ]
  },
  {
   "cell_type": "code",
   "execution_count": 1,
   "metadata": {},
   "outputs": [
    {
     "data": {
      "application/vnd.jupyter.widget-view+json": {
       "model_id": "9634ca2df0db4169aa695c2d1bc37ebf",
       "version_major": 2,
       "version_minor": 0
      },
      "text/plain": [
       "Textarea(value='', description='Text:', layout=Layout(height='80px', width='100%'), placeholder='Type somethin…"
      ]
     },
     "metadata": {},
     "output_type": "display_data"
    }
   ],
   "source": [
    "import ipywidgets as widgets\n",
    "\n",
    "text = widgets.Textarea(\n",
    "    placeholder='Type something',\n",
    "    description='Text:',\n",
    "    layout=widgets.Layout(width='100%', height='80px'),\n",
    "    disabled=False\n",
    ")\n",
    "\n",
    "text"
   ]
  },
  {
   "cell_type": "markdown",
   "metadata": {},
   "source": [
    "### Step 2 - Provide a entry for the regular expression"
   ]
  },
  {
   "cell_type": "code",
   "execution_count": 2,
   "metadata": {},
   "outputs": [
    {
     "data": {
      "application/vnd.jupyter.widget-view+json": {
       "model_id": "c8c9e19197774964a915331883fde4b1",
       "version_major": 2,
       "version_minor": 0
      },
      "text/plain": [
       "VBox(children=(HBox(children=(Text(value='', layout=Layout(width='80%'), placeholder='Type a regular expressio…"
      ]
     },
     "metadata": {},
     "output_type": "display_data"
    }
   ],
   "source": [
    "import re\n",
    "\n",
    "re_text = widgets.Text(\n",
    "    placeholder='Type a regular expression',\n",
    "    layout=widgets.Layout(width='80%'),\n",
    "    disabled=False\n",
    ")\n",
    "\n",
    "run_re = widgets.Button(description=\"Test Expression\")\n",
    "\n",
    "output = widgets.Output()\n",
    "\n",
    "def on_button_clicked(change):\n",
    "    output.clear_output()\n",
    "    re_split_results = re.split(re_text.value, text.value)\n",
    "    output.append_display_data(re_split_results)\n",
    "        \n",
    "run_re.on_click(on_button_clicked)\n",
    "\n",
    "controls =  widgets.VBox([widgets.HBox([re_text, run_re]),output])\n",
    "controls"
   ]
  }
 ],
 "metadata": {
  "kernelspec": {
   "display_name": "Python 3",
   "language": "python",
   "name": "python3"
  },
  "language_info": {
   "codemirror_mode": {
    "name": "ipython",
    "version": 3
   },
   "file_extension": ".py",
   "mimetype": "text/x-python",
   "name": "python",
   "nbconvert_exporter": "python",
   "pygments_lexer": "ipython3",
   "version": "3.7.4"
  },
  "toc": {
   "base_numbering": 1,
   "nav_menu": {},
   "number_sections": false,
   "sideBar": true,
   "skip_h1_title": false,
   "title_cell": "Table of Contents",
   "title_sidebar": "Contents",
   "toc_cell": false,
   "toc_position": {},
   "toc_section_display": true,
   "toc_window_display": false
  }
 },
 "nbformat": 4,
 "nbformat_minor": 2
}
