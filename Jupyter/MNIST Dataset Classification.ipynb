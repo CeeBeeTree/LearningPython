{
 "cells": [
  {
   "cell_type": "markdown",
   "metadata": {},
   "source": [
    "# MNIST Data Set - Loading and Classification in  Python\n",
    "**Author:** Christian Byron  **Date:** 25-May-21\n",
    "\n",
    "This notebook provides an example of loading and classifying the MNIST dataset. The MNIST was constructed from two datasets of the US National Institute of Standards and Technology (NIST). The training set consists of handwritten digits from 250 different people, 50 percent high school students, and 50 percent employees from the Census Bureau. Note that the test set contains handwritten digits from different people following the same split. \n",
    "\n",
    "- [ ] Find a better co\n",
    "\n",
    "### Step 1 - Open the MNIST data files from the saved location"
   ]
  },
  {
   "cell_type": "code",
   "execution_count": 1,
   "metadata": {},
   "outputs": [],
   "source": [
    "import torch\n",
    "from torchvision import datasets, transforms\n",
    "\n",
    "transform = transforms.Compose([transforms.ToTensor(),\n",
    "                              transforms.Normalize((0.5,), (0.5,)),\n",
    "                              ])\n",
    "\n",
    "path_to_MNIST_data = \"C:\\\\Users\\\\s441606\\\\Documents\\\\Matlab\"\n",
    "\n",
    "trainset = datasets.MNIST(path_to_MNIST_data, download=True, train=True, transform=transform)\n",
    "\n",
    "valset = datasets.MNIST(path_to_MNIST_data, download=True, train=False, transform=transform)\n",
    "\n",
    "trainloader = torch.utils.data.DataLoader(trainset, batch_size=64, shuffle=True)\n",
    "\n",
    "valloader = torch.utils.data.DataLoader(valset, batch_size=64, shuffle=True)\n"
   ]
  },
  {
   "cell_type": "code",
   "execution_count": 2,
   "metadata": {},
   "outputs": [
    {
     "name": "stdout",
     "output_type": "stream",
     "text": [
      "torch.Size([64, 1, 28, 28])\n",
      "torch.Size([64])\n"
     ]
    }
   ],
   "source": [
    "import matplotlib.pyplot as plt\n",
    "\n",
    "dataiter = iter(trainloader)\n",
    "images, labels = dataiter.next()\n",
    "\n",
    "print(images.shape)\n",
    "print(labels.shape)\n",
    "\n",
    "figure = plt.figure()\n",
    "num_of_images = 60\n",
    "for index in range(1, num_of_images + 1):\n",
    "    plt.subplot(6, 10, index)\n",
    "    plt.axis('off')\n",
    "    plt.imshow(images[index].numpy().squeeze(), cmap='gray_r')"
   ]
  },
  {
   "cell_type": "markdown",
   "metadata": {},
   "source": [
    "### Step 2 - Create the neural network"
   ]
  },
  {
   "cell_type": "code",
   "execution_count": 3,
   "metadata": {},
   "outputs": [
    {
     "name": "stdout",
     "output_type": "stream",
     "text": [
      "Sequential(\n",
      "  (0): Linear(in_features=784, out_features=128, bias=True)\n",
      "  (1): ReLU()\n",
      "  (2): Linear(in_features=128, out_features=64, bias=True)\n",
      "  (3): ReLU()\n",
      "  (4): Linear(in_features=64, out_features=10, bias=True)\n",
      "  (5): LogSoftmax(dim=1)\n",
      ")\n"
     ]
    }
   ],
   "source": [
    "from torch import nn, optim\n",
    "\n",
    "input_size = 784\n",
    "hidden_sizes = [128, 64]\n",
    "output_size = 10\n",
    "\n",
    "model = nn.Sequential(nn.Linear(input_size, hidden_sizes[0]),\n",
    "                      nn.ReLU(),\n",
    "                      nn.Linear(hidden_sizes[0], hidden_sizes[1]),\n",
    "                      nn.ReLU(),\n",
    "                      nn.Linear(hidden_sizes[1], output_size),\n",
    "                      nn.LogSoftmax(dim=1))\n",
    "print(model)\n",
    "\n"
   ]
  },
  {
   "cell_type": "markdown",
   "metadata": {},
   "source": [
    "### Step3 - Initialize the network and the optimizer."
   ]
  },
  {
   "cell_type": "code",
   "execution_count": 4,
   "metadata": {},
   "outputs": [],
   "source": [
    "criterion = nn.NLLLoss()\n",
    "images, labels = next(iter(trainloader))\n",
    "images = images.view(images.shape[0], -1)\n",
    "\n",
    "logps = model(images) #log probabilities\n",
    "loss = criterion(logps, labels) #calculate the NLL loss"
   ]
  },
  {
   "cell_type": "markdown",
   "metadata": {},
   "source": [
    "### Step 4 - Adjusting weights"
   ]
  },
  {
   "cell_type": "code",
   "execution_count": 5,
   "metadata": {},
   "outputs": [
    {
     "name": "stdout",
     "output_type": "stream",
     "text": [
      "Before backward pass: \n",
      " None\n",
      "After backward pass: \n",
      " tensor([[ 8.2594e-04,  8.2594e-04,  8.2594e-04,  ...,  8.2594e-04,\n",
      "          8.2594e-04,  8.2594e-04],\n",
      "        [ 6.1573e-04,  6.1573e-04,  6.1573e-04,  ...,  6.1573e-04,\n",
      "          6.1573e-04,  6.1573e-04],\n",
      "        [-5.7334e-04, -5.7334e-04, -5.7334e-04,  ..., -5.7334e-04,\n",
      "         -5.7334e-04, -5.7334e-04],\n",
      "        ...,\n",
      "        [ 4.8462e-03,  4.8462e-03,  4.8462e-03,  ...,  4.8462e-03,\n",
      "          4.8462e-03,  4.8462e-03],\n",
      "        [-2.2603e-03, -2.2603e-03, -2.2603e-03,  ..., -2.2603e-03,\n",
      "         -2.2603e-03, -2.2603e-03],\n",
      "        [-7.4844e-05, -7.4844e-05, -7.4844e-05,  ..., -7.4844e-05,\n",
      "         -7.4844e-05, -7.4844e-05]])\n"
     ]
    }
   ],
   "source": [
    "print('Before backward pass: \\n', model[0].weight.grad)\n",
    "loss.backward()\n",
    "print('After backward pass: \\n', model[0].weight.grad)"
   ]
  },
  {
   "cell_type": "markdown",
   "metadata": {},
   "source": [
    "### Step 5 - The core training process "
   ]
  },
  {
   "cell_type": "code",
   "execution_count": 6,
   "metadata": {},
   "outputs": [
    {
     "name": "stdout",
     "output_type": "stream",
     "text": [
      "Epoch 0 - Training loss: 0.6393567340682819\n",
      "Epoch 1 - Training loss: 0.27271537353266784\n",
      "Epoch 2 - Training loss: 0.2101961270506893\n",
      "Epoch 3 - Training loss: 0.17110631278138172\n",
      "Epoch 4 - Training loss: 0.14443052462590084\n",
      "Epoch 5 - Training loss: 0.12393806186685366\n",
      "Epoch 6 - Training loss: 0.10817993166886254\n",
      "Epoch 7 - Training loss: 0.0958428007236787\n",
      "Epoch 8 - Training loss: 0.08671636580338658\n",
      "Epoch 9 - Training loss: 0.08002012699191123\n",
      "Epoch 10 - Training loss: 0.07356465173396728\n",
      "Epoch 11 - Training loss: 0.06741516532471725\n",
      "Epoch 12 - Training loss: 0.06156493458566246\n",
      "Epoch 13 - Training loss: 0.058203230014761916\n",
      "Epoch 14 - Training loss: 0.05277714324417089\n",
      "\n",
      "Training Time (in minutes) = 6.455955576896668\n",
      "\n",
      " OrderedDict([('0.weight', tensor([[-0.0289,  0.0037, -0.0353,  ...,  0.0156, -0.0278,  0.0158],\n",
      "        [ 0.0093, -0.0095,  0.0118,  ..., -0.0181,  0.0278, -0.0172],\n",
      "        [-0.0130,  0.0145,  0.0085,  ..., -0.0080, -0.0200,  0.0161],\n",
      "        ...,\n",
      "        [-0.0030, -0.0267,  0.0138,  ..., -0.0007,  0.0203,  0.0244],\n",
      "        [ 0.0280, -0.0216, -0.0295,  ...,  0.0021,  0.0080, -0.0333],\n",
      "        [-0.0186, -0.0085,  0.0027,  ..., -0.0397, -0.0113, -0.0423]])), ('0.bias', tensor([-2.6130e-02,  2.3448e-02,  2.1705e-02,  3.4111e-03,  8.2650e-03,\n",
      "         2.0180e-02,  2.3664e-03, -2.1133e-02, -2.6165e-02,  2.6479e-03,\n",
      "        -8.1018e-03,  2.8409e-02,  1.1862e-02, -2.2676e-02, -2.3597e-02,\n",
      "         1.7512e-02,  3.2357e-02, -2.7058e-02,  2.7787e-02, -2.0941e-02,\n",
      "        -5.9061e-03,  2.1197e-02,  1.0872e-02,  1.4167e-02, -2.5809e-02,\n",
      "         3.4228e-02,  8.2554e-03, -1.9563e-02, -3.0988e-02,  3.6568e-02,\n",
      "        -3.9944e-02,  1.5923e-02, -1.4172e-02, -1.0926e-02, -2.0342e-02,\n",
      "        -2.8222e-02,  1.9545e-02,  4.1737e-03,  1.6418e-02,  6.7505e-03,\n",
      "        -2.5470e-02,  2.0811e-02, -8.6123e-03, -3.4716e-04,  2.2628e-02,\n",
      "         3.7824e-03, -1.7072e-02,  3.0120e-02,  2.2469e-03,  1.8343e-02,\n",
      "         7.6183e-03,  2.2416e-02,  2.3943e-03,  2.7788e-02, -2.8171e-02,\n",
      "        -1.1197e-02,  2.7332e-03,  2.7080e-02, -1.9825e-02, -6.9887e-03,\n",
      "         7.0681e-03, -1.6931e-02, -1.9949e-02,  8.0202e-03,  4.4032e-03,\n",
      "         2.9267e-02, -6.4839e-03, -2.1024e-02, -4.3054e-03, -2.6138e-02,\n",
      "         6.3796e-03,  3.0646e-02,  1.7066e-03, -2.2258e-02,  2.9783e-02,\n",
      "         1.1937e-02, -1.8043e-02, -3.0651e-02, -1.9160e-04, -2.2204e-02,\n",
      "         1.3174e-02,  1.0140e-02,  1.2352e-02,  2.0938e-02,  3.1778e-02,\n",
      "        -3.0581e-02, -4.1353e-03,  3.1715e-02,  1.1225e-02,  6.3491e-03,\n",
      "         3.2823e-02,  6.6689e-03,  2.0129e-03,  9.0712e-03,  2.1958e-02,\n",
      "         3.3821e-02,  1.9855e-02, -9.8737e-04, -2.4756e-02,  8.2228e-03,\n",
      "         1.5447e-03,  2.0581e-02,  3.5177e-02,  1.8305e-02, -2.3784e-02,\n",
      "         1.7382e-02,  2.3584e-02,  8.7670e-03,  1.0449e-02, -7.8830e-03,\n",
      "         3.2874e-02, -1.8988e-02, -2.1390e-02, -2.2379e-02, -2.7716e-02,\n",
      "        -2.8354e-02, -1.4652e-02,  1.9803e-02, -3.0621e-02,  4.5356e-03,\n",
      "        -6.5344e-03,  2.3149e-02,  1.4850e-02,  1.8375e-02,  2.2031e-02,\n",
      "         8.6592e-05, -1.6427e-02,  1.2003e-02])), ('2.weight', tensor([[-0.0253, -0.0047,  0.1459,  ..., -0.0697,  0.0163,  0.0888],\n",
      "        [-0.0734,  0.0005,  0.0254,  ...,  0.1763,  0.0113, -0.0215],\n",
      "        [ 0.1277, -0.0286,  0.0756,  ..., -0.0219,  0.0102,  0.1457],\n",
      "        ...,\n",
      "        [-0.0318,  0.0372, -0.0785,  ..., -0.0306,  0.0540,  0.0707],\n",
      "        [-0.1729,  0.0497,  0.0636,  ...,  0.0144,  0.0804,  0.0586],\n",
      "        [-0.0712,  0.0644, -0.0266,  ...,  0.0218,  0.0671,  0.0414]])), ('2.bias', tensor([ 0.0455, -0.0027,  0.0836,  0.0515, -0.0011, -0.0672,  0.0666,  0.0011,\n",
      "         0.0318, -0.0410, -0.0167, -0.0552, -0.0070,  0.0040,  0.1195,  0.0581,\n",
      "         0.0924, -0.0686, -0.0611,  0.0505,  0.0139,  0.0554, -0.0788, -0.0675,\n",
      "        -0.0048, -0.0342, -0.0026, -0.0608, -0.0914,  0.0448, -0.0290,  0.0583,\n",
      "         0.0376, -0.0264,  0.0847,  0.0150, -0.0269,  0.0866, -0.0656, -0.0202,\n",
      "        -0.0130,  0.0634, -0.0075, -0.0864, -0.0630, -0.0549,  0.0291, -0.0734,\n",
      "         0.0580,  0.0213,  0.1192, -0.0142, -0.0013, -0.0721,  0.0803, -0.0849,\n",
      "        -0.0754, -0.0508,  0.0747,  0.0635, -0.0405, -0.0604,  0.0800, -0.0244])), ('4.weight', tensor([[-1.2862e-01, -1.7362e-01,  3.3150e-01,  3.5806e-02, -1.6484e-01,\n",
      "          6.9793e-02, -1.0826e-01, -2.9200e-01, -1.7853e-01, -8.0730e-03,\n",
      "         -1.9469e-01,  1.8880e-01, -3.2429e-01, -2.7204e-01,  2.1846e-01,\n",
      "          2.4513e-01, -3.4169e-01, -1.6408e-01, -9.6366e-02, -1.5702e-01,\n",
      "         -1.3368e-01,  9.2981e-02,  3.4592e-03,  3.7387e-01, -1.3687e-01,\n",
      "         -2.7979e-01,  3.7385e-01,  1.0816e-01,  1.8664e-02, -1.6260e-01,\n",
      "         -8.6504e-02, -2.1683e-01, -9.1581e-02,  3.5369e-01,  9.5493e-02,\n",
      "          4.0011e-01,  5.1886e-02,  1.0877e-01,  2.6858e-01, -4.1036e-02,\n",
      "          7.8345e-02,  5.4675e-01,  8.0584e-02,  6.1885e-02, -1.6021e-01,\n",
      "         -7.8247e-02, -1.2232e-01,  7.2907e-02,  1.4750e-01,  1.1709e-02,\n",
      "         -2.8316e-01,  6.1599e-02,  1.3412e-01, -3.3802e-01,  3.9359e-01,\n",
      "         -7.3832e-02,  1.3829e-01,  1.0908e-01, -6.1344e-02, -3.0189e-02,\n",
      "         -1.9967e-01, -2.6622e-01,  9.9777e-03, -5.1615e-02],\n",
      "        [-5.5594e-01, -5.5751e-02,  3.4368e-02, -4.0780e-02, -4.1601e-01,\n",
      "          9.5564e-02, -2.2086e-01,  1.5753e-02,  3.0991e-03, -3.1912e-02,\n",
      "         -1.0197e-01,  1.2351e-01,  4.0589e-01,  4.2917e-01, -3.8809e-01,\n",
      "         -2.9014e-01,  3.9050e-02,  2.0483e-01,  3.8062e-01,  3.2542e-01,\n",
      "         -2.0114e-01,  2.5274e-01,  9.4120e-02, -7.4749e-03,  1.6725e-01,\n",
      "          3.9418e-01, -1.5818e-01, -3.1759e-02,  3.0000e-01,  1.1261e-01,\n",
      "          5.5363e-02, -2.0131e-01,  1.7972e-01,  2.8376e-02,  4.0355e-01,\n",
      "         -2.6995e-01,  1.3821e-01, -2.7588e-01, -8.4576e-02, -3.2820e-01,\n",
      "         -4.7130e-02, -3.4735e-01,  1.2033e-01,  2.0826e-01,  1.7031e-01,\n",
      "          7.1710e-02, -3.3842e-01, -1.1793e-01, -3.2024e-01, -1.0957e-01,\n",
      "         -3.7161e-01,  2.5765e-01,  6.3715e-03, -7.4331e-02, -3.1169e-01,\n",
      "          2.8386e-02,  3.9858e-01, -1.3992e-02,  3.4709e-02, -7.6356e-02,\n",
      "          2.1064e-01,  2.6094e-01, -1.8124e-01, -8.9713e-04],\n",
      "        [ 2.6158e-02,  5.2256e-02,  3.7123e-01, -7.6670e-02, -2.5744e-01,\n",
      "          1.8286e-02,  1.0486e-01, -9.7965e-02,  1.6016e-01,  1.5592e-01,\n",
      "          2.8223e-01, -7.1715e-02,  4.9175e-01, -4.6195e-01,  2.0183e-01,\n",
      "         -1.2444e-01,  4.2202e-01,  1.7698e-01,  1.6427e-01,  1.8427e-01,\n",
      "         -7.9206e-02, -4.1124e-02,  1.4476e-01, -1.6252e-02, -2.2526e-01,\n",
      "         -9.9883e-02,  3.1544e-01,  8.6645e-01,  3.6758e-01,  1.7143e-01,\n",
      "         -2.4058e-01, -7.0428e-02,  2.0650e-01, -1.7216e-01, -1.6403e-01,\n",
      "         -1.1515e-01, -2.7085e-01, -1.9232e-01, -1.7805e-01, -5.3882e-02,\n",
      "          8.7901e-02,  2.0320e-01, -6.2400e-02,  4.1782e-01, -2.7778e-01,\n",
      "         -7.9066e-03,  4.2525e-01,  8.4327e-02, -1.1318e-01, -4.7465e-02,\n",
      "         -1.6058e-01, -2.6928e-01,  7.9182e-02, -2.6569e-01, -5.7442e-02,\n",
      "         -2.7130e-02, -2.6802e-01, -7.0896e-02,  1.2349e-01, -9.0148e-02,\n",
      "         -2.0194e-01, -1.7206e-01,  4.9900e-02,  1.1720e-01],\n",
      "        [ 2.8876e-01,  3.6010e-01,  2.1958e-02, -4.4323e-03, -4.6254e-01,\n",
      "          5.9949e-02, -5.8707e-02,  2.4688e-01,  1.6313e-01, -1.3259e-01,\n",
      "         -8.4675e-02,  5.6375e-02, -1.7134e-01,  4.0380e-01, -3.7974e-01,\n",
      "         -1.0841e-02,  3.6283e-01, -1.0680e-01, -4.8379e-02,  6.8622e-01,\n",
      "          2.9668e-01,  1.0789e-01, -1.7508e-01,  1.4663e-01, -1.1239e-02,\n",
      "         -1.5669e-01,  9.6664e-02,  9.2762e-02, -1.7880e-01,  1.3437e-01,\n",
      "          6.6994e-02,  1.0115e-01,  2.1590e-01, -1.3956e-01, -5.5212e-01,\n",
      "          3.3851e-01, -4.8413e-01,  1.7747e-01,  7.3718e-02, -3.0791e-01,\n",
      "          5.7052e-02, -1.7406e-01, -1.2752e-01, -2.9427e-02, -7.1483e-03,\n",
      "         -3.1704e-02, -2.0360e-01,  1.2861e-01,  1.6854e-01, -1.5558e-02,\n",
      "          1.6344e-01,  4.2784e-01,  1.6150e-02,  4.9794e-01, -5.2505e-01,\n",
      "         -7.3452e-02, -2.6331e-01,  2.2905e-01, -9.8125e-02,  4.7213e-02,\n",
      "          1.3026e-01, -3.0373e-01, -1.1279e-01,  6.1849e-02],\n",
      "        [-1.3496e-01, -2.7009e-01,  1.7661e-01, -4.5599e-02,  5.2479e-01,\n",
      "         -5.0912e-01, -2.4164e-01,  1.1092e-01,  7.2187e-02,  3.7390e-02,\n",
      "          2.8014e-01,  1.1222e-01, -3.5787e-02,  3.9665e-01,  1.6224e-01,\n",
      "          3.3720e-01, -9.4985e-02, -5.3556e-02,  1.3946e-01, -5.3825e-01,\n",
      "         -2.3206e-01, -5.2563e-01,  2.7864e-01, -3.1695e-01, -1.2447e-01,\n",
      "          2.0726e-01, -3.3601e-01, -8.4160e-02, -5.0705e-02, -3.1956e-01,\n",
      "         -1.1849e-01, -3.9285e-02, -2.1536e-03, -1.2003e-01,  2.1312e-01,\n",
      "         -4.7493e-01, -3.9293e-01,  1.0586e-01,  6.1837e-02,  4.8672e-01,\n",
      "          1.7668e-02, -2.7864e-01, -7.8054e-02, -5.4502e-01, -9.9451e-03,\n",
      "         -2.0184e-01,  3.5201e-01, -2.0967e-02,  4.9373e-03,  6.6409e-02,\n",
      "          1.9868e-01,  1.1680e-01, -1.5772e-01,  6.0129e-02,  1.6706e-01,\n",
      "          5.4952e-02, -1.9573e-01,  1.3272e-01, -3.4897e-02,  1.3852e-01,\n",
      "          4.7601e-01,  3.1243e-01,  2.0736e-01, -5.2531e-02],\n",
      "        [ 2.9281e-01, -4.0339e-01, -4.8645e-01, -4.6960e-02, -2.9796e-01,\n",
      "          2.3229e-01, -6.2259e-05,  7.4844e-04,  2.2184e-01, -1.1370e-01,\n",
      "          1.8018e-01, -1.6826e-01,  4.4446e-02, -1.1572e-01,  3.1700e-01,\n",
      "          2.6298e-01,  8.6847e-03,  9.1251e-02, -2.2743e-01,  3.0587e-01,\n",
      "         -1.9538e-01,  2.4361e-01, -2.0454e-01,  3.4215e-01,  4.4631e-01,\n",
      "         -3.4948e-01, -5.4863e-02, -5.6349e-01, -7.6991e-02,  2.4084e-01,\n",
      "          2.0176e-01,  6.3414e-01, -4.5984e-01, -1.6634e-01, -5.2602e-01,\n",
      "          5.3988e-02,  4.7653e-01, -4.4106e-01, -2.9657e-01,  1.0706e-01,\n",
      "         -9.1121e-02,  7.2039e-02,  1.1759e-01, -2.2151e-01,  5.3462e-01,\n",
      "          7.3641e-02,  1.4236e-02,  8.8798e-02, -1.1326e-01, -1.1181e-01,\n",
      "          1.1702e-01,  2.1211e-03, -8.6731e-02,  1.6328e-01, -1.7759e-02,\n",
      "          1.2664e-03,  3.2831e-01, -2.8873e-01,  7.6795e-02, -6.3423e-02,\n",
      "          4.6769e-01, -7.6135e-02, -4.4879e-01,  1.0161e-01],\n",
      "        [-3.0448e-01, -3.1434e-01, -2.7079e-02, -6.6683e-02, -7.8868e-03,\n",
      "         -2.3815e-01, -4.3705e-02, -2.0172e-01, -1.6863e-01, -6.3262e-02,\n",
      "         -1.8530e-01, -4.7057e-02, -1.9207e-01, -1.6355e-01,  6.4546e-01,\n",
      "          1.5187e-01, -3.7777e-01, -8.1169e-02, -2.6368e-01, -3.1389e-01,\n",
      "         -9.0842e-02, -1.1760e-01,  2.9991e-03, -9.6788e-02,  5.5648e-01,\n",
      "         -2.1915e-01, -2.7807e-01, -1.0962e-01, -9.2211e-02,  1.3420e-01,\n",
      "         -9.2796e-02, -8.1551e-02, -8.9533e-03,  3.1779e-01,  4.0761e-01,\n",
      "         -1.4410e-01,  3.7779e-01, -1.3607e-01,  2.5283e-02, -3.8153e-01,\n",
      "         -2.4372e-02,  1.4159e-01,  1.1175e-01,  3.1016e-01,  1.3096e-01,\n",
      "          1.3765e-01,  5.6360e-01, -1.1924e-01, -1.4800e-01, -2.7039e-02,\n",
      "          2.3481e-01,  3.5001e-01, -1.0370e-01, -4.3374e-01, -1.3370e-01,\n",
      "          6.2226e-02, -9.1201e-02,  3.8070e-02,  8.9860e-02, -1.6102e-01,\n",
      "         -3.6548e-01, -2.7873e-01, -8.5882e-02, -6.6065e-02],\n",
      "        [ 4.6016e-02,  4.6220e-01, -1.8139e-01, -1.2329e-01, -2.5803e-01,\n",
      "         -1.1064e-01, -1.3422e-01, -3.7088e-02, -1.3832e-01, -1.2125e-01,\n",
      "         -1.4233e-01, -2.0546e-02,  3.8985e-01, -1.8513e-01, -5.7283e-01,\n",
      "         -1.3623e-01,  1.0778e-01, -3.7140e-01, -1.8916e-01, -2.2103e-01,\n",
      "          1.7553e-01,  4.1059e-01,  8.3198e-02,  2.7488e-01, -4.6845e-01,\n",
      "          1.4946e-01, -5.0910e-02,  1.7055e-01,  4.5202e-01, -1.4093e-01,\n",
      "         -3.3107e-02, -5.2482e-01,  5.0717e-01, -3.6357e-01,  1.2659e-01,\n",
      "         -1.3263e-01, -1.9027e-01, -2.9186e-01, -2.1136e-02,  4.6045e-01,\n",
      "         -1.1634e-01,  2.6988e-01,  1.1926e-01,  2.0654e-01,  3.7469e-01,\n",
      "          1.0310e-01, -1.0234e-01, -2.4310e-02, -1.0423e-01,  2.8319e-02,\n",
      "          3.7727e-01, -1.3684e-02,  1.4164e-01, -3.5757e-01,  1.5519e-01,\n",
      "         -4.1639e-02,  3.8162e-02,  1.3350e-01, -9.3097e-02, -4.3686e-02,\n",
      "          2.6765e-03,  3.0118e-01,  4.0210e-01,  1.0388e-01],\n",
      "        [ 3.0535e-01, -1.0077e-01,  1.4946e-01,  8.8355e-02,  5.7074e-01,\n",
      "         -1.5203e-01,  4.4680e-01,  1.7102e-01, -8.5226e-02, -6.3986e-02,\n",
      "         -2.2753e-01,  1.3779e-01,  2.7374e-01, -3.0154e-01,  2.2406e-01,\n",
      "         -2.5320e-02,  6.4918e-02, -3.2248e-01,  2.1623e-02,  1.9420e-01,\n",
      "          1.2358e-01, -1.9613e-01, -5.8078e-01, -6.3721e-01,  2.4793e-01,\n",
      "          4.3111e-01,  1.5146e-01, -2.4005e-01, -4.5226e-01, -2.0160e-02,\n",
      "         -8.8506e-02,  3.5155e-01, -3.5685e-01,  2.3240e-01,  1.3184e-01,\n",
      "         -9.5550e-02,  1.6359e-01,  2.7196e-01, -4.8116e-03, -3.9884e-01,\n",
      "         -2.4161e-02, -6.6163e-02,  2.3096e-02, -2.7308e-01, -4.9513e-01,\n",
      "          1.9273e-01, -1.0770e-01, -1.6993e-02,  3.1147e-01,  3.9559e-02,\n",
      "          2.1462e-01, -3.0430e-01, -9.8428e-02,  2.8638e-01, -1.9661e-01,\n",
      "          1.1268e-01, -1.4704e-01, -2.2541e-01, -6.3541e-02,  3.7741e-02,\n",
      "         -3.2540e-01,  1.2044e-01,  4.3005e-02, -3.9003e-02],\n",
      "        [ 3.1510e-01, -4.2528e-02, -1.8114e-01,  1.1477e-01,  4.4820e-01,\n",
      "          3.1194e-01,  1.9895e-02,  1.0266e-01, -5.6606e-03,  5.6316e-02,\n",
      "          7.8826e-02,  2.4046e-02, -4.2285e-01,  1.0948e-01, -3.2810e-01,\n",
      "         -2.3177e-01, -4.4247e-02,  4.4012e-01, -5.6904e-03, -1.5358e-01,\n",
      "          2.4448e-01, -2.2144e-01,  2.1465e-01, -2.1659e-02, -1.5613e-01,\n",
      "         -6.9184e-03, -1.7693e-02, -5.2951e-01, -1.9927e-01, -1.6550e-01,\n",
      "          1.7340e-03, -1.0119e-01,  1.7002e-01,  2.7941e-01, -2.7829e-01,\n",
      "          1.1937e-01,  2.4726e-01,  4.6473e-01,  1.1916e-01,  1.6045e-01,\n",
      "         -7.6470e-02, -5.5061e-01,  5.5906e-02, -2.1356e-02,  3.6092e-01,\n",
      "          6.7326e-02, -5.3472e-01,  1.3859e-01,  8.8301e-02,  9.1184e-02,\n",
      "         -2.0813e-01, -4.8329e-01, -2.1574e-01,  5.0160e-01,  5.2585e-01,\n",
      "          9.4673e-03,  2.6709e-01, -1.7265e-01,  2.8906e-02,  8.2189e-02,\n",
      "         -1.9378e-01, -9.8687e-02,  2.0931e-01,  7.6606e-02]])), ('4.bias', tensor([ 0.0401,  0.0281, -0.0670, -0.0263,  0.0891, -0.0104, -0.0633,  0.0779,\n"
     ]
    },
    {
     "name": "stdout",
     "output_type": "stream",
     "text": [
      "         0.0754,  0.0207]))])\n"
     ]
    }
   ],
   "source": [
    "from time import time\n",
    "\n",
    "optimizer = optim.SGD(model.parameters(), lr=0.003, momentum=0.9)\n",
    "time0 = time()\n",
    "epochs = 15\n",
    "for e in range(epochs):\n",
    "    running_loss = 0\n",
    "    for images, labels in trainloader:\n",
    "        # Flatten MNIST images into a 784 long vector\n",
    "        images = images.view(images.shape[0], -1)\n",
    "    \n",
    "        # Training pass\n",
    "        optimizer.zero_grad()\n",
    "        \n",
    "        output = model(images)\n",
    "        loss = criterion(output, labels)\n",
    "        \n",
    "        #This is where the model learns by backpropagating\n",
    "        loss.backward()\n",
    "        \n",
    "        #And optimizes its weights here\n",
    "        optimizer.step()\n",
    "        \n",
    "        running_loss += loss.item()\n",
    "    else:\n",
    "        print(\"Epoch {} - Training loss: {}\".format(e, running_loss/len(trainloader)))\n",
    "\n",
    "print(\"\\nTraining Time (in minutes) =\",(time()-time0)/60)\n",
    "#print(\"\\n\", model.state_dict())"
   ]
  },
  {
   "cell_type": "markdown",
   "metadata": {},
   "source": [
    "### Step 6 - Testing & Evaluation"
   ]
  },
  {
   "cell_type": "code",
   "execution_count": 7,
   "metadata": {},
   "outputs": [
    {
     "name": "stdout",
     "output_type": "stream",
     "text": [
      "Predicted Digit = 7\n"
     ]
    },
    {
     "data": {
      "image/png": "[encoded data removed]",
      "text/plain": [
       "<Figure size 432x648 with 2 Axes>"
      ]
     },
     "metadata": {
      "needs_background": "light"
     },
     "output_type": "display_data"
    }
   ],
   "source": [
    "import numpy as np\n",
    "\n",
    "def view_classify(img, ps):\n",
    "    ''' Function for viewing an image and it's predicted classes.\n",
    "    '''\n",
    "    ps = ps.data.numpy().squeeze()\n",
    "\n",
    "    fig, (ax1, ax2) = plt.subplots(figsize=(6,9), ncols=2)\n",
    "    ax1.imshow(img.resize_(1, 28, 28).numpy().squeeze())\n",
    "    ax1.axis('off')\n",
    "    ax2.barh(np.arange(10), ps)\n",
    "    ax2.set_aspect(0.1)\n",
    "    ax2.set_yticks(np.arange(10))\n",
    "    ax2.set_yticklabels(np.arange(10))\n",
    "    ax2.set_title('Class Probability')\n",
    "    ax2.set_xlim(0, 1.1)\n",
    "    plt.tight_layout()\n",
    "    \n",
    "images, labels = next(iter(valloader))\n",
    "\n",
    "img = images[0].view(1, 784)\n",
    "with torch.no_grad():\n",
    "    logps = model(img)\n",
    "\n",
    "ps = torch.exp(logps)\n",
    "probab = list(ps.numpy()[0])\n",
    "print(\"Predicted Digit =\", probab.index(max(probab)))\n",
    "view_classify(img.view(1, 28, 28), ps)"
   ]
  },
  {
   "cell_type": "code",
   "execution_count": 8,
   "metadata": {},
   "outputs": [
    {
     "name": "stdout",
     "output_type": "stream",
     "text": [
      "Number Of Images Tested = 10000\n",
      "\n",
      "Model Accuracy = 0.9707\n"
     ]
    }
   ],
   "source": [
    "import numpy as np\n",
    "\n",
    "correct_count, all_count = 0, 0\n",
    "conf_matrix = np.zeros((10,10))\n",
    "\n",
    "for images,labels in valloader:\n",
    "  for i in range(len(labels)):\n",
    "    img = images[i].view(1, 784)\n",
    "    with torch.no_grad():\n",
    "        logps = model(img)\n",
    "\n",
    "    \n",
    "    ps = torch.exp(logps)\n",
    "    probab = list(ps.numpy()[0])\n",
    "    pred_label = probab.index(max(probab))\n",
    "    true_label = labels.numpy()[i]\n",
    "    if(true_label == pred_label):\n",
    "      correct_count += 1\n",
    "    all_count += 1\n",
    "    conf_matrix[true_label, pred_label] += 1\n",
    "\n",
    "print(\"Number Of Images Tested =\", all_count)\n",
    "print(\"\\nModel Accuracy =\", (correct_count/all_count))"
   ]
  },
  {
   "cell_type": "code",
   "execution_count": 9,
   "metadata": {},
   "outputs": [],
   "source": [
    "def plot_confusion_matrix(cm,\n",
    "                          target_names,\n",
    "                          title='Confusion matrix',\n",
    "                          cmap=None,\n",
    "                          normalize=True):\n",
    "    \"\"\"\n",
    "    given a sklearn confusion matrix (cm), make a nice plot\n",
    "\n",
    "    Arguments\n",
    "    ---------\n",
    "    cm:           confusion matrix from sklearn.metrics.confusion_matrix\n",
    "\n",
    "    target_names: given classification classes such as [0, 1, 2]\n",
    "                  the class names, for example: ['high', 'medium', 'low']\n",
    "\n",
    "    title:        the text to display at the top of the matrix\n",
    "\n",
    "    cmap:         the gradient of the values displayed from matplotlib.pyplot.cm\n",
    "                  see http://matplotlib.org/examples/color/colormaps_reference.html\n",
    "                  plt.get_cmap('jet') or plt.cm.Blues\n",
    "\n",
    "    normalize:    If False, plot the raw numbers\n",
    "                  If True, plot the proportions\n",
    "\n",
    "    Usage\n",
    "    -----\n",
    "    plot_confusion_matrix(cm           = cm,                  # confusion matrix created by\n",
    "                                                              # sklearn.metrics.confusion_matrix\n",
    "                          normalize    = True,                # show proportions\n",
    "                          target_names = y_labels_vals,       # list of names of the classes\n",
    "                          title        = best_estimator_name) # title of graph\n",
    "\n",
    "    Citiation\n",
    "    ---------\n",
    "    http://scikit-learn.org/stable/auto_examples/model_selection/plot_confusion_matrix.html\n",
    "\n",
    "    \"\"\"\n",
    "    import matplotlib.pyplot as plt\n",
    "    import numpy as np\n",
    "    import itertools\n",
    "\n",
    "    accuracy = np.trace(cm) / float(np.sum(cm))\n",
    "    misclass = 1 - accuracy\n",
    "\n",
    "    if cmap is None:\n",
    "        cmap = plt.get_cmap('Blues')\n",
    "\n",
    "    plt.figure(figsize=(8, 6))\n",
    "    plt.imshow(cm, interpolation='nearest', cmap=cmap)\n",
    "    plt.title(title)\n",
    "    plt.colorbar()\n",
    "\n",
    "    if target_names is not None:\n",
    "        tick_marks = np.arange(len(target_names))\n",
    "        plt.xticks(tick_marks, target_names, rotation=45)\n",
    "        plt.yticks(tick_marks, target_names)\n",
    "\n",
    "    if normalize:\n",
    "        cm = cm.astype('float') / cm.sum(axis=1)[:, np.newaxis]\n",
    "\n",
    "\n",
    "    thresh = cm.max() / 1.5 if normalize else cm.max() / 2\n",
    "    for i, j in itertools.product(range(cm.shape[0]), range(cm.shape[1])):\n",
    "        if normalize:\n",
    "            plt.text(j, i, \"{:0.4f}\".format(cm[i, j]),\n",
    "                     horizontalalignment=\"center\",\n",
    "                     color=\"white\" if cm[i, j] > thresh else \"black\")\n",
    "        else:\n",
    "            plt.text(j, i, \"{:,}\".format(cm[i, j]),\n",
    "                     horizontalalignment=\"center\",\n",
    "                     color=\"white\" if cm[i, j] > thresh else \"black\")\n",
    "\n",
    "\n",
    "    plt.tight_layout()\n",
    "    plt.ylabel('True label')\n",
    "    plt.xlabel('Predicted label\\naccuracy={:0.4f}; misclass={:0.4f}'.format(accuracy, misclass))\n",
    "    plt.show()"
   ]
  },
  {
   "cell_type": "code",
   "execution_count": 10,
   "metadata": {},
   "outputs": [
    {
     "data": {
      "image/png": "[encoded data removed]",
      "text/plain": [
       "<Figure size 576x432 with 2 Axes>"
      ]
     },
     "metadata": {
      "needs_background": "light"
     },
     "output_type": "display_data"
    }
   ],
   "source": [
    "plot_confusion_matrix(cm = conf_matrix, normalize = False, \n",
    "                     target_names = ['0','1', '2', '3', '4', '5', '6', '7', '8', '9'])"
   ]
  },
  {
   "cell_type": "markdown",
   "metadata": {},
   "source": [
    "\n",
    "#### Lessons Learnt\n",
    "- Challenge to find a good confusion matrix library without extensive library imports ( will investigate further to find decent library to settle upon)\n",
    "\n",
    "\n",
    "#### References\n",
    "- https://towardsdatascience.com/handwritten-digit-mnist-pytorch-977b5338e627\n",
    "- https://www.kaggle.com/grfiv4/plot-a-confusion-matrix\n",
    "- https://www.analyticsvidhya.com/blog/2020/07/how-to-train-an-image-classification-model-in-pytorch-and-tensorflow/"
   ]
  }
 ],
 "metadata": {
  "kernelspec": {
   "display_name": "Python 3",
   "language": "python",
   "name": "python3"
  },
  "language_info": {
   "codemirror_mode": {
    "name": "ipython",
    "version": 3
   },
   "file_extension": ".py",
   "mimetype": "text/x-python",
   "name": "python",
   "nbconvert_exporter": "python",
   "pygments_lexer": "ipython3",
   "version": "3.7.4"
  }
 },
 "nbformat": 4,
 "nbformat_minor": 2
}
